{
 "cells": [
  {
   "cell_type": "code",
   "execution_count": 2,
   "metadata": {
    "collapsed": true
   },
   "outputs": [],
   "source": [
    ""
   ]
  },
  {
   "cell_type": "code",
   "execution_count": 25,
   "metadata": {},
   "outputs": [],
   "source": [
    ""
   ]
  },
  {
   "cell_type": "code",
   "execution_count": 2,
   "metadata": {
    "collapsed": false
   },
   "outputs": [],
   "source": [
    ""
   ]
  },
  {
   "cell_type": "code",
   "execution_count": 2,
   "metadata": {},
   "outputs": [],
   "source": [
    ""
   ]
  },
  {
   "cell_type": "code",
   "execution_count": 1,
   "metadata": {},
   "outputs": [
    {
     "name": "stderr",
     "output_type": "stream",
     "text": [
      "C:\\Users\\Seb\\Anaconda3\\envs\\rootclone\\lib\\site-packages\\matplotlib\\__init__.py:1405: UserWarning: \nThis call to matplotlib.use() has no effect because the backend has already\nbeen chosen; matplotlib.use() must be called *before* pylab, matplotlib.pyplot,\nor matplotlib.backends is imported for the first time.\n\n  warnings.warn(_use_error_msg)\n"
     ]
    }
   ],
   "source": [
    "%matplotlib inline\n",
    "\n",
    "import dicom as dc\n",
    "import numpy as np\n",
    "import Data_Preprocessing as dp\n",
    "import matplotlib\n",
    "import matplotlib.pyplot as plt\n",
    "import glob\n",
    "import pandas as pd\n",
    "import xml\n",
    "from xml.etree import ElementTree\n",
    "from shapely.geometry import Polygon\n",
    "from shapely.geometry import Point\n",
    "\n",
    "pre_pro = dp.Data_Preprocessing()\n",
    "path, xml_path = pre_pro.get_random_path()"
   ]
  },
  {
   "cell_type": "code",
   "execution_count": 72,
   "metadata": {},
   "outputs": [
    {
     "name": "stdout",
     "output_type": "stream",
     "text": [
      "-207.5\n(512, 512)\n"
     ]
    }
   ],
   "source": [
    "path, xml_path = pre_pro.get_random_path()\n",
    "f = ElementTree.parse(xml_path).getroot()\n",
    "\n",
    "for child in f.findall('{http://www.nih.gov}ResponseHeader'):\n",
    "    for grandchild in child.findall('{http://www.nih.gov}SeriesInstanceUid'):\n",
    "        SeriesUID = grandchild.text\n",
    "        \n",
    "dc_file = dc.read_file(path)\n",
    "z_position = float((dc_file[0x0020, 0x0032].value)[2])\n",
    "print(z_position)\n",
    "size = (dc_file.pixel_array).shape\n",
    "print(size)\n",
    "annotation_list = []\n",
    "nodule_list = []\n",
    "for child in f.findall('{http://www.nih.gov}readingSession'):\n",
    "    # the annotation mask of this radiologist\n",
    "    annotations = np.zeros(shape=size)\n",
    "    nodules = np.zeros(shape=size)\n",
    "    # loop over nodules\n",
    "    for grandchild in child.findall('{http://www.nih.gov}unblindedReadNodule'):\n",
    "        # loop over 2-dim slices of a single nodule\n",
    "        for ggc in grandchild.findall('{http://www.nih.gov}roi'):\n",
    "            image_z = float(ggc[0].text)\n",
    "            #check if current slice has correct z coordinate\n",
    "            if image_z == z_position:\n",
    "                print('Matching nodule found')\n",
    "                vertices = []\n",
    "                for coord in ggc.findall('{http://www.nih.gov}edgeMap'):\n",
    "                    vertices.append((int(coord[0].text), int(coord[1].text)))\n",
    "                    annotations[int(coord[0].text), int(coord[1].text)] = 1\n",
    "                poly = Polygon(vertices)\n",
    "                bnd = poly.bounds\n",
    "                for x in range(int(bnd[0]), int(bnd[2]+1)):\n",
    "                    for y in range(int(bnd[1]), int(bnd[3] + 1)):     \n",
    "                        point = Point(x, y)\n",
    "                        if point.within(poly):\n",
    "                            nodules[x,y] = 1\n",
    "    annotation_list.append(annotations)\n",
    "    nodule_list.append(nodules)"
   ]
  },
  {
   "cell_type": "code",
   "execution_count": 2,
   "metadata": {},
   "outputs": [
    {
     "ename": "KeyError",
     "evalue": "(0020, 0032)",
     "traceback": [
      "\u001b[0;31m---------------------------------------------------------------------------\u001b[0m",
      "\u001b[0;31mKeyError\u001b[0m                                  Traceback (most recent call last)",
      "\u001b[0;32m<ipython-input-2-469d943524e3>\u001b[0m in \u001b[0;36m<module>\u001b[0;34m()\u001b[0m\n\u001b[1;32m      1\u001b[0m \u001b[0mpath\u001b[0m\u001b[1;33m,\u001b[0m \u001b[0mxml_path\u001b[0m \u001b[1;33m=\u001b[0m \u001b[0mpre_pro\u001b[0m\u001b[1;33m.\u001b[0m\u001b[0mget_random_path\u001b[0m\u001b[1;33m(\u001b[0m\u001b[1;33m)\u001b[0m\u001b[1;33m\u001b[0m\u001b[0m\n\u001b[0;32m----> 2\u001b[0;31m \u001b[0mpic\u001b[0m\u001b[1;33m,\u001b[0m \u001b[0manno\u001b[0m\u001b[1;33m,\u001b[0m \u001b[0mnod\u001b[0m \u001b[1;33m=\u001b[0m \u001b[0mpre_pro\u001b[0m\u001b[1;33m.\u001b[0m\u001b[0mget_data\u001b[0m\u001b[1;33m(\u001b[0m\u001b[0mpath\u001b[0m\u001b[1;33m,\u001b[0m \u001b[0mxml_path\u001b[0m\u001b[1;33m)\u001b[0m\u001b[1;33m\u001b[0m\u001b[0m\n\u001b[0m",
      "\u001b[0;32mC:\\Users\\Seb\\PycharmProjects\\DeepInverseProblems\\Data_Preprocessing.py\u001b[0m in \u001b[0;36mget_data\u001b[0;34m(self, path, xml_path)\u001b[0m\n\u001b[1;32m     53\u001b[0m         \u001b[1;31m# find the slice of the given image\u001b[0m\u001b[1;33m\u001b[0m\u001b[1;33m\u001b[0m\u001b[0m\n\u001b[1;32m     54\u001b[0m         \u001b[0mdc_file\u001b[0m \u001b[1;33m=\u001b[0m \u001b[0mdc\u001b[0m\u001b[1;33m.\u001b[0m\u001b[0mread_file\u001b[0m\u001b[1;33m(\u001b[0m\u001b[0mpath\u001b[0m\u001b[1;33m)\u001b[0m\u001b[1;33m\u001b[0m\u001b[0m\n\u001b[0;32m---> 55\u001b[0;31m         \u001b[0mz_position\u001b[0m \u001b[1;33m=\u001b[0m \u001b[0mfloat\u001b[0m\u001b[1;33m(\u001b[0m\u001b[1;33m(\u001b[0m\u001b[0mdc_file\u001b[0m\u001b[1;33m[\u001b[0m\u001b[1;36m0x0020\u001b[0m\u001b[1;33m,\u001b[0m \u001b[1;36m0x0032\u001b[0m\u001b[1;33m]\u001b[0m\u001b[1;33m.\u001b[0m\u001b[0mvalue\u001b[0m\u001b[1;33m)\u001b[0m\u001b[1;33m[\u001b[0m\u001b[1;36m2\u001b[0m\u001b[1;33m]\u001b[0m\u001b[1;33m)\u001b[0m\u001b[1;33m\u001b[0m\u001b[0m\n\u001b[0m\u001b[1;32m     56\u001b[0m         \u001b[0msize\u001b[0m \u001b[1;33m=\u001b[0m \u001b[1;33m(\u001b[0m\u001b[0mdc_file\u001b[0m\u001b[1;33m.\u001b[0m\u001b[0mpixel_array\u001b[0m\u001b[1;33m)\u001b[0m\u001b[1;33m.\u001b[0m\u001b[0mshape\u001b[0m\u001b[1;33m\u001b[0m\u001b[0m\n\u001b[1;32m     57\u001b[0m \u001b[1;33m\u001b[0m\u001b[0m\n",
      "\u001b[0;32mC:\\Users\\Seb\\Anaconda3\\envs\\rootclone\\lib\\site-packages\\dicom\\dataset.py\u001b[0m in \u001b[0;36m__getitem__\u001b[0;34m(self, key)\u001b[0m\n\u001b[1;32m    275\u001b[0m         \u001b[1;34m\"\"\"Operator for dataset[key] request.\"\"\"\u001b[0m\u001b[1;33m\u001b[0m\u001b[0m\n\u001b[1;32m    276\u001b[0m         \u001b[0mtag\u001b[0m \u001b[1;33m=\u001b[0m \u001b[0mTag\u001b[0m\u001b[1;33m(\u001b[0m\u001b[0mkey\u001b[0m\u001b[1;33m)\u001b[0m\u001b[1;33m\u001b[0m\u001b[0m\n\u001b[0;32m--> 277\u001b[0;31m         \u001b[0mdata_elem\u001b[0m \u001b[1;33m=\u001b[0m \u001b[0mdict\u001b[0m\u001b[1;33m.\u001b[0m\u001b[0m__getitem__\u001b[0m\u001b[1;33m(\u001b[0m\u001b[0mself\u001b[0m\u001b[1;33m,\u001b[0m \u001b[0mtag\u001b[0m\u001b[1;33m)\u001b[0m\u001b[1;33m\u001b[0m\u001b[0m\n\u001b[0m\u001b[1;32m    278\u001b[0m \u001b[1;33m\u001b[0m\u001b[0m\n\u001b[1;32m    279\u001b[0m         \u001b[1;32mif\u001b[0m \u001b[0misinstance\u001b[0m\u001b[1;33m(\u001b[0m\u001b[0mdata_elem\u001b[0m\u001b[1;33m,\u001b[0m \u001b[0mDataElement\u001b[0m\u001b[1;33m)\u001b[0m\u001b[1;33m:\u001b[0m\u001b[1;33m\u001b[0m\u001b[0m\n",
      "\u001b[0;31mKeyError\u001b[0m: (0020, 0032)"
     ],
     "output_type": "error"
    }
   ],
   "source": [
    "path, xml_path = pre_pro.get_random_path()\n",
    "pic, anno, nod = pre_pro.get_data(path, xml_path)"
   ]
  },
  {
   "cell_type": "code",
   "execution_count": 69,
   "metadata": {},
   "outputs": [
    {
     "name": "stdout",
     "output_type": "stream",
     "text": [
      "0.0\n1.0\n"
     ]
    }
   ],
   "source": [
    "# renormalize pic\n",
    "pic = pic - np.amin(pic)\n",
    "pic = pic/np.amax(pic)\n",
    "print(np.amin(pic))\n",
    "print(np.amax(pic))"
   ]
  },
  {
   "cell_type": "code",
   "execution_count": 73,
   "metadata": {},
   "outputs": [],
   "source": [
    "size = pic.shape\n",
    "three_c = np.zeros(shape=[size[0], size[1], 3])\n",
    "for k in range(3):\n",
    "    three_c[...,k] = pic\n",
    "    \n",
    "# set red channel to 1 whenever in nodules and set all other channels to 0\n",
    "for x in range(size[0]):\n",
    "    for y in range(size[1]):\n",
    "        if (nod[0])[x,y]==1:\n",
    "            three_c[x,y,0] = 1\n",
    "            three_c[x,y,1] = 0\n",
    "            three_c[x,y,2] = 0\n",
    "    \n",
    "three_c[...,0] = three_c[...,0] + nod[0]\n",
    "plt.figure()\n",
    "plt.imshow(three_c)\n",
    "plt.savefig('Data/Test/' + str(20) + '.jpg')\n",
    "plt.close()"
   ]
  },
  {
   "cell_type": "code",
   "execution_count": 9,
   "metadata": {},
   "outputs": [
    {
     "name": "stdout",
     "output_type": "stream",
     "text": [
      "{http://www.nih.gov/idri}ResponseHeader\n{http://www.nih.gov/idri}CXRreadingSession\n{http://www.nih.gov/idri}CXRreadingSession\n{http://www.nih.gov/idri}CXRreadingSession\n{http://www.nih.gov/idri}CXRreadingSession\n"
     ]
    },
    {
     "data": {
      "text/plain": [
       "[]"
      ]
     },
     "execution_count": 9,
     "metadata": {},
     "output_type": "execute_result"
    }
   ],
   "source": [
    "f = ElementTree.parse(xml_path).getroot()\n",
    "for c in f:\n",
    "    print (c.tag)\n",
    "session = f.findall('{http://www.nih.gov}CXRreadingSession')\n",
    "session"
   ]
  }
 ],
 "metadata": {
  "kernelspec": {
   "display_name": "Python 2",
   "language": "python",
   "name": "python2"
  },
  "language_info": {
   "codemirror_mode": {
    "name": "ipython",
    "version": 2.0
   },
   "file_extension": ".py",
   "mimetype": "text/x-python",
   "name": "python",
   "nbconvert_exporter": "python",
   "pygments_lexer": "ipython2",
   "version": "2.7.6"
  }
 },
 "nbformat": 4,
 "nbformat_minor": 0
}